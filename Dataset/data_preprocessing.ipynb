{
 "cells": [
  {
   "cell_type": "code",
   "execution_count": 2,
   "metadata": {},
   "outputs": [],
   "source": [
    "import json\n",
    "import pandas as pd"
   ]
  },
  {
   "cell_type": "code",
   "execution_count": 5,
   "metadata": {},
   "outputs": [
    {
     "name": "stdout",
     "output_type": "stream",
     "text": [
      "Number of Dataframe rows : (1262910, 3)\n"
     ]
    },
    {
     "data": {
      "text/html": [
       "<div>\n",
       "<style scoped>\n",
       "    .dataframe tbody tr th:only-of-type {\n",
       "        vertical-align: middle;\n",
       "    }\n",
       "\n",
       "    .dataframe tbody tr th {\n",
       "        vertical-align: top;\n",
       "    }\n",
       "\n",
       "    .dataframe thead th {\n",
       "        text-align: right;\n",
       "    }\n",
       "</style>\n",
       "<table border=\"1\" class=\"dataframe\">\n",
       "  <thead>\n",
       "    <tr style=\"text-align: right;\">\n",
       "      <th></th>\n",
       "      <th>submission_id</th>\n",
       "      <th>language</th>\n",
       "      <th>source</th>\n",
       "    </tr>\n",
       "  </thead>\n",
       "  <tbody>\n",
       "    <tr>\n",
       "      <th>0</th>\n",
       "      <td>12746065</td>\n",
       "      <td>GNU C++11</td>\n",
       "      <td>/*\\n******************************************...</td>\n",
       "    </tr>\n",
       "    <tr>\n",
       "      <th>1</th>\n",
       "      <td>12746876</td>\n",
       "      <td>GNU C++</td>\n",
       "      <td>#include&lt;iostream&gt;\\n\\nusing namespace std;\\n\\n...</td>\n",
       "    </tr>\n",
       "    <tr>\n",
       "      <th>2</th>\n",
       "      <td>12747297</td>\n",
       "      <td>MS C++</td>\n",
       "      <td>#include &lt;iostream&gt;\\n#include &lt;sstream&gt;\\n#incl...</td>\n",
       "    </tr>\n",
       "    <tr>\n",
       "      <th>3</th>\n",
       "      <td>12747301</td>\n",
       "      <td>GNU C++11</td>\n",
       "      <td>#include&lt;stdio.h&gt;\\n#include&lt;algorithm&gt;\\n#inclu...</td>\n",
       "    </tr>\n",
       "    <tr>\n",
       "      <th>4</th>\n",
       "      <td>12747302</td>\n",
       "      <td>GNU C++11</td>\n",
       "      <td>#include &lt;bits/stdc++.h&gt;\\nusing namespace std;...</td>\n",
       "    </tr>\n",
       "  </tbody>\n",
       "</table>\n",
       "</div>"
      ],
      "text/plain": [
       "   submission_id   language                                             source\n",
       "0       12746065  GNU C++11  /*\\n******************************************...\n",
       "1       12746876    GNU C++  #include<iostream>\\n\\nusing namespace std;\\n\\n...\n",
       "2       12747297     MS C++  #include <iostream>\\n#include <sstream>\\n#incl...\n",
       "3       12747301  GNU C++11  #include<stdio.h>\\n#include<algorithm>\\n#inclu...\n",
       "4       12747302  GNU C++11  #include <bits/stdc++.h>\\nusing namespace std;..."
      ]
     },
     "execution_count": 5,
     "metadata": {},
     "output_type": "execute_result"
    }
   ],
   "source": [
    "# In this Cell, we convert our Jsonl file to Dataframe for better understanding\n",
    "PATH = '../../dump-original.jsonl'\n",
    "\n",
    "data = []\n",
    "\n",
    "# Read and parse each line of the JSONL file\n",
    "with open(PATH, 'r') as f:\n",
    "    for line_num, line in enumerate(f, start=1):\n",
    "        try:\n",
    "            json_obj = json.loads(line.strip())  # Parse the JSON object from the line\n",
    "            data.append(json_obj)  # Append valid JSON objects to the list\n",
    "        except json.JSONDecodeError as e:\n",
    "            print(f\"Skipping line {line_num}: {e}\")  # Catch and display any parsing errors\n",
    "\n",
    "# Convert the list of valid JSON objects to a Pandas DataFrame\n",
    "df = pd.DataFrame(data)\n",
    "print(f\"Number of Dataframe rows : {df.shape}\")\n",
    "df.head()"
   ]
  },
  {
   "cell_type": "code",
   "execution_count": 6,
   "metadata": {},
   "outputs": [
    {
     "data": {
      "text/plain": [
       "language\n",
       "GNU C++14                451022\n",
       "GNU C++11                329281\n",
       "GNU C++                  242294\n",
       "Java 8                    63483\n",
       "MS C++                    34856\n",
       "Python 3                  30827\n",
       "GNU C++17                 27384\n",
       "GNU C                     26880\n",
       "Python 2                   9346\n",
       "FPC                        8156\n",
       "GNU C11                    5925\n",
       "Java 7                     5564\n",
       "GNU C++17 Diagnostics      4420\n",
       "MS C#                      4195\n",
       "PyPy 3                     2947\n",
       "PyPy 2                     2298\n",
       "Mono C#                    2081\n",
       "PascalABC.NET              2075\n",
       "JavaScript                 1670\n",
       "Delphi                     1177\n",
       "Go                         1124\n",
       "Haskell                     983\n",
       "Scala                       975\n",
       "Ruby                        972\n",
       "PHP                         798\n",
       "Kotlin                      577\n",
       "Rust                        461\n",
       "D                           429\n",
       "Perl                        348\n",
       "Clang++17 Diagnostics       208\n",
       "Ocaml                       154\n",
       "Name: count, dtype: int64"
      ]
     },
     "execution_count": 6,
     "metadata": {},
     "output_type": "execute_result"
    }
   ],
   "source": [
    "# We can see how many languages we have\n",
    "df['language'].value_counts()"
   ]
  },
  {
   "cell_type": "code",
   "execution_count": 7,
   "metadata": {},
   "outputs": [
    {
     "name": "stdout",
     "output_type": "stream",
     "text": [
      "Number of Dataframe rows : (30827, 3)\n"
     ]
    },
    {
     "data": {
      "text/plain": [
       "language\n",
       "Python 3    30827\n",
       "Name: count, dtype: int64"
      ]
     },
     "execution_count": 7,
     "metadata": {},
     "output_type": "execute_result"
    }
   ],
   "source": [
    "# We decided to choose Python 3 as a main language\n",
    "df = df[df['language'] == 'Python 3']\n",
    "print(f\"Number of Dataframe rows : {df.shape}\")\n",
    "df['language'].value_counts()"
   ]
  },
  {
   "cell_type": "code",
   "execution_count": 8,
   "metadata": {},
   "outputs": [
    {
     "data": {
      "text/html": [
       "<div>\n",
       "<style scoped>\n",
       "    .dataframe tbody tr th:only-of-type {\n",
       "        vertical-align: middle;\n",
       "    }\n",
       "\n",
       "    .dataframe tbody tr th {\n",
       "        vertical-align: top;\n",
       "    }\n",
       "\n",
       "    .dataframe thead th {\n",
       "        text-align: right;\n",
       "    }\n",
       "</style>\n",
       "<table border=\"1\" class=\"dataframe\">\n",
       "  <thead>\n",
       "    <tr style=\"text-align: right;\">\n",
       "      <th></th>\n",
       "      <th>language</th>\n",
       "      <th>source</th>\n",
       "    </tr>\n",
       "  </thead>\n",
       "  <tbody>\n",
       "    <tr>\n",
       "      <th>52</th>\n",
       "      <td>Python 3</td>\n",
       "      <td>n, m = map(int, input().split())\\na = []\\nfor ...</td>\n",
       "    </tr>\n",
       "    <tr>\n",
       "      <th>123</th>\n",
       "      <td>Python 3</td>\n",
       "      <td>n, m = map(int, input().split())\\na = []\\nfor ...</td>\n",
       "    </tr>\n",
       "    <tr>\n",
       "      <th>144</th>\n",
       "      <td>Python 3</td>\n",
       "      <td>#In the name of Allah\\n\\nfrom sys import stdin...</td>\n",
       "    </tr>\n",
       "    <tr>\n",
       "      <th>530</th>\n",
       "      <td>Python 3</td>\n",
       "      <td>s = input()\\nl, *v = (int(x) for x in input()....</td>\n",
       "    </tr>\n",
       "    <tr>\n",
       "      <th>734</th>\n",
       "      <td>Python 3</td>\n",
       "      <td>s = input()\\nl, *v = (int(x) for x in input()....</td>\n",
       "    </tr>\n",
       "  </tbody>\n",
       "</table>\n",
       "</div>"
      ],
      "text/plain": [
       "     language                                             source\n",
       "52   Python 3  n, m = map(int, input().split())\\na = []\\nfor ...\n",
       "123  Python 3  n, m = map(int, input().split())\\na = []\\nfor ...\n",
       "144  Python 3  #In the name of Allah\\n\\nfrom sys import stdin...\n",
       "530  Python 3  s = input()\\nl, *v = (int(x) for x in input()....\n",
       "734  Python 3  s = input()\\nl, *v = (int(x) for x in input()...."
      ]
     },
     "execution_count": 8,
     "metadata": {},
     "output_type": "execute_result"
    }
   ],
   "source": [
    "# Removing 'submission_id' column\n",
    "df = df.drop('submission_id', axis=1)\n",
    "df.head()"
   ]
  },
  {
   "cell_type": "code",
   "execution_count": 9,
   "metadata": {},
   "outputs": [
    {
     "data": {
      "text/html": [
       "<div>\n",
       "<style scoped>\n",
       "    .dataframe tbody tr th:only-of-type {\n",
       "        vertical-align: middle;\n",
       "    }\n",
       "\n",
       "    .dataframe tbody tr th {\n",
       "        vertical-align: top;\n",
       "    }\n",
       "\n",
       "    .dataframe thead th {\n",
       "        text-align: right;\n",
       "    }\n",
       "</style>\n",
       "<table border=\"1\" class=\"dataframe\">\n",
       "  <thead>\n",
       "    <tr style=\"text-align: right;\">\n",
       "      <th></th>\n",
       "      <th>language</th>\n",
       "      <th>source</th>\n",
       "    </tr>\n",
       "  </thead>\n",
       "  <tbody>\n",
       "    <tr>\n",
       "      <th>0</th>\n",
       "      <td>Python 3</td>\n",
       "      <td>n, m = map(int, input().split())\\na = []\\nfor ...</td>\n",
       "    </tr>\n",
       "    <tr>\n",
       "      <th>1</th>\n",
       "      <td>Python 3</td>\n",
       "      <td>n, m = map(int, input().split())\\na = []\\nfor ...</td>\n",
       "    </tr>\n",
       "    <tr>\n",
       "      <th>2</th>\n",
       "      <td>Python 3</td>\n",
       "      <td>#In the name of Allah\\n\\nfrom sys import stdin...</td>\n",
       "    </tr>\n",
       "    <tr>\n",
       "      <th>3</th>\n",
       "      <td>Python 3</td>\n",
       "      <td>s = input()\\nl, *v = (int(x) for x in input()....</td>\n",
       "    </tr>\n",
       "    <tr>\n",
       "      <th>4</th>\n",
       "      <td>Python 3</td>\n",
       "      <td>s = input()\\nl, *v = (int(x) for x in input()....</td>\n",
       "    </tr>\n",
       "  </tbody>\n",
       "</table>\n",
       "</div>"
      ],
      "text/plain": [
       "   language                                             source\n",
       "0  Python 3  n, m = map(int, input().split())\\na = []\\nfor ...\n",
       "1  Python 3  n, m = map(int, input().split())\\na = []\\nfor ...\n",
       "2  Python 3  #In the name of Allah\\n\\nfrom sys import stdin...\n",
       "3  Python 3  s = input()\\nl, *v = (int(x) for x in input()....\n",
       "4  Python 3  s = input()\\nl, *v = (int(x) for x in input()...."
      ]
     },
     "execution_count": 9,
     "metadata": {},
     "output_type": "execute_result"
    }
   ],
   "source": [
    "# Reseting indexes of dataframe\n",
    "df = df.reset_index(drop=True)\n",
    "df.head()"
   ]
  },
  {
   "cell_type": "code",
   "execution_count": 10,
   "metadata": {},
   "outputs": [
    {
     "data": {
      "text/plain": [
       "(23187, 2)"
      ]
     },
     "execution_count": 10,
     "metadata": {},
     "output_type": "execute_result"
    }
   ],
   "source": [
    "# Filter the DataFrame based on the number of lines in 'source' column less than 70 lines and reorder indexes\n",
    "df = df[df['source'].apply(lambda x: 10 <= len(x.split('\\n')) <= 60)]\n",
    "df = df.reset_index(drop=True)\n",
    "df.shape"
   ]
  },
  {
   "cell_type": "code",
   "execution_count": 11,
   "metadata": {},
   "outputs": [
    {
     "name": "stdout",
     "output_type": "stream",
     "text": [
      "0\n",
      "0\n"
     ]
    }
   ],
   "source": [
    "# Cheking dataset whether it has null row or not\n",
    "print(df['language'].isnull().sum())\n",
    "print(df['source'].isnull().sum())"
   ]
  },
  {
   "cell_type": "code",
   "execution_count": 68,
   "metadata": {},
   "outputs": [],
   "source": [
    "# Save as the csv file\n",
    "df.to_csv('python_codes.csv', index=False)"
   ]
  }
 ],
 "metadata": {
  "kernelspec": {
   "display_name": "Python 3",
   "language": "python",
   "name": "python3"
  },
  "language_info": {
   "codemirror_mode": {
    "name": "ipython",
    "version": 3
   },
   "file_extension": ".py",
   "mimetype": "text/x-python",
   "name": "python",
   "nbconvert_exporter": "python",
   "pygments_lexer": "ipython3",
   "version": "3.9.16"
  }
 },
 "nbformat": 4,
 "nbformat_minor": 2
}
