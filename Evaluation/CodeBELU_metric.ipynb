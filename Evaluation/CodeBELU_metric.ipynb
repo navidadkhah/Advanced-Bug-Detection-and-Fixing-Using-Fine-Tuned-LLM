{
  "nbformat": 4,
  "nbformat_minor": 0,
  "metadata": {
    "colab": {
      "provenance": [],
      "mount_file_id": "1SSoKzHKUNpNJbWFSy1WQDrgXfEhxyIvc",
      "authorship_tag": "ABX9TyNOW5XMhWNKpMTnHOuRgFec",
      "include_colab_link": true
    },
    "kernelspec": {
      "name": "python3",
      "display_name": "Python 3"
    },
    "language_info": {
      "name": "python"
    }
  },
  "cells": [
    {
      "cell_type": "markdown",
      "metadata": {
        "id": "view-in-github",
        "colab_type": "text"
      },
      "source": [
        "<a href=\"https://colab.research.google.com/github/navidadkhah/Fine-Tuning-LLMs/blob/main/Evaluation/CodeBELU_metric.ipynb\" target=\"_parent\"><img src=\"https://colab.research.google.com/assets/colab-badge.svg\" alt=\"Open In Colab\"/></a>"
      ]
    },
    {
      "cell_type": "markdown",
      "source": [
        "# Initialize Libraries"
      ],
      "metadata": {
        "id": "j9B63kSJfMj1"
      }
    },
    {
      "cell_type": "code",
      "execution_count": 1,
      "metadata": {
        "colab": {
          "base_uri": "https://localhost:8080/"
        },
        "id": "I8TO4-YveFsO",
        "outputId": "9b9534b3-42bb-4e15-829b-91e9bcc74871"
      },
      "outputs": [
        {
          "output_type": "stream",
          "name": "stdout",
          "text": [
            "Collecting codebleu==0.1.2\n",
            "  Downloading codebleu-0.1.2-cp310-cp310-manylinux_2_17_x86_64.manylinux2014_x86_64.whl.metadata (5.0 kB)\n",
            "Collecting tree-sitter<1.0.0,>=0.20.0 (from codebleu==0.1.2)\n",
            "  Downloading tree_sitter-0.23.2-cp310-cp310-manylinux_2_17_x86_64.manylinux2014_x86_64.whl.metadata (9.8 kB)\n",
            "Downloading codebleu-0.1.2-cp310-cp310-manylinux_2_17_x86_64.manylinux2014_x86_64.whl (1.0 MB)\n",
            "\u001b[2K   \u001b[90m━━━━━━━━━━━━━━━━━━━━━━━━━━━━━━━━━━━━━━━━\u001b[0m \u001b[32m1.0/1.0 MB\u001b[0m \u001b[31m15.1 MB/s\u001b[0m eta \u001b[36m0:00:00\u001b[0m\n",
            "\u001b[?25hDownloading tree_sitter-0.23.2-cp310-cp310-manylinux_2_17_x86_64.manylinux2014_x86_64.whl (566 kB)\n",
            "\u001b[2K   \u001b[90m━━━━━━━━━━━━━━━━━━━━━━━━━━━━━━━━━━━━━━━━\u001b[0m \u001b[32m566.6/566.6 kB\u001b[0m \u001b[31m32.5 MB/s\u001b[0m eta \u001b[36m0:00:00\u001b[0m\n",
            "\u001b[?25hInstalling collected packages: tree-sitter, codebleu\n",
            "Successfully installed codebleu-0.1.2 tree-sitter-0.23.2\n"
          ]
        }
      ],
      "source": [
        "!pip install codebleu==0.1.2"
      ]
    },
    {
      "cell_type": "code",
      "source": [
        "from codebleu import calc_codebleu\n",
        "from codebleu import calc_codebleu\n",
        "from nltk.translate.bleu_score import sentence_bleu\n",
        "\n",
        "import numpy as np\n",
        "import pandas as pd"
      ],
      "metadata": {
        "id": "abFdOzLRePBk"
      },
      "execution_count": 2,
      "outputs": []
    },
    {
      "cell_type": "markdown",
      "source": [
        "# Reading the Dataset"
      ],
      "metadata": {
        "id": "aPCP0cxEfpAf"
      }
    },
    {
      "cell_type": "code",
      "source": [
        "path = \"/content/drive/MyDrive/Bachelor\\'s project/bug_evaluation_dataset.csv\"\n",
        "df = pd.read_csv(path)\n",
        "print(df.shape)\n",
        "df.head()"
      ],
      "metadata": {
        "colab": {
          "base_uri": "https://localhost:8080/",
          "height": 243
        },
        "id": "MGHklX24foV-",
        "outputId": "0ecfe0d4-7068-4773-ffa5-70b03fa09e84"
      },
      "execution_count": 3,
      "outputs": [
        {
          "output_type": "stream",
          "name": "stdout",
          "text": [
            "(25793, 5)\n"
          ]
        },
        {
          "output_type": "execute_result",
          "data": {
            "text/plain": [
              "                                       original_code  \\\n",
              "0  n = int(input())\\nw = [2] * n\\nans0 = n\\nans =...   \n",
              "1  n = int(input())\\nw = [2] * n\\nans0 = n\\nans =...   \n",
              "2  n = int(input())\\nw = [2] * n\\nans0 = n\\nans =...   \n",
              "3  n = int(input())\\nw = [2] * n\\nans0 = n\\nans =...   \n",
              "4  n = int(input())\\nw = [2] * n\\nans0 = n\\nans =...   \n",
              "\n",
              "                                       modified_code  \\\n",
              "0  n = int(input())\\nw = [2] * n\\nans0 = n\\nans =...   \n",
              "1  n = int(input())\\nw = [2] * n\\nans0 = n\\nans =...   \n",
              "2  n = int(input())\\nw = [2] * n\\nans0 = n\\nans =...   \n",
              "3  n = int(input())\\nw = [2] * n\\nans0 = n\\nans =...   \n",
              "4  n = int(input())\\nw = [2] * n\\nans0 = n\\nans =...   \n",
              "\n",
              "                                  changed_line  number_of_line mutation_type  \n",
              "0                      for j in range(y-1, r):              14     statement  \n",
              "1                                      if k<1:               8      decision  \n",
              "2                                      if k<1:               8      decision  \n",
              "3                      for j in range(l&1, r):              14     operation  \n",
              "4      l, r, k = list(z(int, input().split()))               7     statement  "
            ],
            "text/html": [
              "\n",
              "  <div id=\"df-56e6ee39-70ef-40e5-ae40-e129bc5f5927\" class=\"colab-df-container\">\n",
              "    <div>\n",
              "<style scoped>\n",
              "    .dataframe tbody tr th:only-of-type {\n",
              "        vertical-align: middle;\n",
              "    }\n",
              "\n",
              "    .dataframe tbody tr th {\n",
              "        vertical-align: top;\n",
              "    }\n",
              "\n",
              "    .dataframe thead th {\n",
              "        text-align: right;\n",
              "    }\n",
              "</style>\n",
              "<table border=\"1\" class=\"dataframe\">\n",
              "  <thead>\n",
              "    <tr style=\"text-align: right;\">\n",
              "      <th></th>\n",
              "      <th>original_code</th>\n",
              "      <th>modified_code</th>\n",
              "      <th>changed_line</th>\n",
              "      <th>number_of_line</th>\n",
              "      <th>mutation_type</th>\n",
              "    </tr>\n",
              "  </thead>\n",
              "  <tbody>\n",
              "    <tr>\n",
              "      <th>0</th>\n",
              "      <td>n = int(input())\\nw = [2] * n\\nans0 = n\\nans =...</td>\n",
              "      <td>n = int(input())\\nw = [2] * n\\nans0 = n\\nans =...</td>\n",
              "      <td>for j in range(y-1, r):</td>\n",
              "      <td>14</td>\n",
              "      <td>statement</td>\n",
              "    </tr>\n",
              "    <tr>\n",
              "      <th>1</th>\n",
              "      <td>n = int(input())\\nw = [2] * n\\nans0 = n\\nans =...</td>\n",
              "      <td>n = int(input())\\nw = [2] * n\\nans0 = n\\nans =...</td>\n",
              "      <td>if k&lt;1:</td>\n",
              "      <td>8</td>\n",
              "      <td>decision</td>\n",
              "    </tr>\n",
              "    <tr>\n",
              "      <th>2</th>\n",
              "      <td>n = int(input())\\nw = [2] * n\\nans0 = n\\nans =...</td>\n",
              "      <td>n = int(input())\\nw = [2] * n\\nans0 = n\\nans =...</td>\n",
              "      <td>if k&lt;1:</td>\n",
              "      <td>8</td>\n",
              "      <td>decision</td>\n",
              "    </tr>\n",
              "    <tr>\n",
              "      <th>3</th>\n",
              "      <td>n = int(input())\\nw = [2] * n\\nans0 = n\\nans =...</td>\n",
              "      <td>n = int(input())\\nw = [2] * n\\nans0 = n\\nans =...</td>\n",
              "      <td>for j in range(l&amp;1, r):</td>\n",
              "      <td>14</td>\n",
              "      <td>operation</td>\n",
              "    </tr>\n",
              "    <tr>\n",
              "      <th>4</th>\n",
              "      <td>n = int(input())\\nw = [2] * n\\nans0 = n\\nans =...</td>\n",
              "      <td>n = int(input())\\nw = [2] * n\\nans0 = n\\nans =...</td>\n",
              "      <td>l, r, k = list(z(int, input().split()))</td>\n",
              "      <td>7</td>\n",
              "      <td>statement</td>\n",
              "    </tr>\n",
              "  </tbody>\n",
              "</table>\n",
              "</div>\n",
              "    <div class=\"colab-df-buttons\">\n",
              "\n",
              "  <div class=\"colab-df-container\">\n",
              "    <button class=\"colab-df-convert\" onclick=\"convertToInteractive('df-56e6ee39-70ef-40e5-ae40-e129bc5f5927')\"\n",
              "            title=\"Convert this dataframe to an interactive table.\"\n",
              "            style=\"display:none;\">\n",
              "\n",
              "  <svg xmlns=\"http://www.w3.org/2000/svg\" height=\"24px\" viewBox=\"0 -960 960 960\">\n",
              "    <path d=\"M120-120v-720h720v720H120Zm60-500h600v-160H180v160Zm220 220h160v-160H400v160Zm0 220h160v-160H400v160ZM180-400h160v-160H180v160Zm440 0h160v-160H620v160ZM180-180h160v-160H180v160Zm440 0h160v-160H620v160Z\"/>\n",
              "  </svg>\n",
              "    </button>\n",
              "\n",
              "  <style>\n",
              "    .colab-df-container {\n",
              "      display:flex;\n",
              "      gap: 12px;\n",
              "    }\n",
              "\n",
              "    .colab-df-convert {\n",
              "      background-color: #E8F0FE;\n",
              "      border: none;\n",
              "      border-radius: 50%;\n",
              "      cursor: pointer;\n",
              "      display: none;\n",
              "      fill: #1967D2;\n",
              "      height: 32px;\n",
              "      padding: 0 0 0 0;\n",
              "      width: 32px;\n",
              "    }\n",
              "\n",
              "    .colab-df-convert:hover {\n",
              "      background-color: #E2EBFA;\n",
              "      box-shadow: 0px 1px 2px rgba(60, 64, 67, 0.3), 0px 1px 3px 1px rgba(60, 64, 67, 0.15);\n",
              "      fill: #174EA6;\n",
              "    }\n",
              "\n",
              "    .colab-df-buttons div {\n",
              "      margin-bottom: 4px;\n",
              "    }\n",
              "\n",
              "    [theme=dark] .colab-df-convert {\n",
              "      background-color: #3B4455;\n",
              "      fill: #D2E3FC;\n",
              "    }\n",
              "\n",
              "    [theme=dark] .colab-df-convert:hover {\n",
              "      background-color: #434B5C;\n",
              "      box-shadow: 0px 1px 3px 1px rgba(0, 0, 0, 0.15);\n",
              "      filter: drop-shadow(0px 1px 2px rgba(0, 0, 0, 0.3));\n",
              "      fill: #FFFFFF;\n",
              "    }\n",
              "  </style>\n",
              "\n",
              "    <script>\n",
              "      const buttonEl =\n",
              "        document.querySelector('#df-56e6ee39-70ef-40e5-ae40-e129bc5f5927 button.colab-df-convert');\n",
              "      buttonEl.style.display =\n",
              "        google.colab.kernel.accessAllowed ? 'block' : 'none';\n",
              "\n",
              "      async function convertToInteractive(key) {\n",
              "        const element = document.querySelector('#df-56e6ee39-70ef-40e5-ae40-e129bc5f5927');\n",
              "        const dataTable =\n",
              "          await google.colab.kernel.invokeFunction('convertToInteractive',\n",
              "                                                    [key], {});\n",
              "        if (!dataTable) return;\n",
              "\n",
              "        const docLinkHtml = 'Like what you see? Visit the ' +\n",
              "          '<a target=\"_blank\" href=https://colab.research.google.com/notebooks/data_table.ipynb>data table notebook</a>'\n",
              "          + ' to learn more about interactive tables.';\n",
              "        element.innerHTML = '';\n",
              "        dataTable['output_type'] = 'display_data';\n",
              "        await google.colab.output.renderOutput(dataTable, element);\n",
              "        const docLink = document.createElement('div');\n",
              "        docLink.innerHTML = docLinkHtml;\n",
              "        element.appendChild(docLink);\n",
              "      }\n",
              "    </script>\n",
              "  </div>\n",
              "\n",
              "\n",
              "<div id=\"df-7f2b39fa-f23e-4b61-a1ce-e825c7c68ebe\">\n",
              "  <button class=\"colab-df-quickchart\" onclick=\"quickchart('df-7f2b39fa-f23e-4b61-a1ce-e825c7c68ebe')\"\n",
              "            title=\"Suggest charts\"\n",
              "            style=\"display:none;\">\n",
              "\n",
              "<svg xmlns=\"http://www.w3.org/2000/svg\" height=\"24px\"viewBox=\"0 0 24 24\"\n",
              "     width=\"24px\">\n",
              "    <g>\n",
              "        <path d=\"M19 3H5c-1.1 0-2 .9-2 2v14c0 1.1.9 2 2 2h14c1.1 0 2-.9 2-2V5c0-1.1-.9-2-2-2zM9 17H7v-7h2v7zm4 0h-2V7h2v10zm4 0h-2v-4h2v4z\"/>\n",
              "    </g>\n",
              "</svg>\n",
              "  </button>\n",
              "\n",
              "<style>\n",
              "  .colab-df-quickchart {\n",
              "      --bg-color: #E8F0FE;\n",
              "      --fill-color: #1967D2;\n",
              "      --hover-bg-color: #E2EBFA;\n",
              "      --hover-fill-color: #174EA6;\n",
              "      --disabled-fill-color: #AAA;\n",
              "      --disabled-bg-color: #DDD;\n",
              "  }\n",
              "\n",
              "  [theme=dark] .colab-df-quickchart {\n",
              "      --bg-color: #3B4455;\n",
              "      --fill-color: #D2E3FC;\n",
              "      --hover-bg-color: #434B5C;\n",
              "      --hover-fill-color: #FFFFFF;\n",
              "      --disabled-bg-color: #3B4455;\n",
              "      --disabled-fill-color: #666;\n",
              "  }\n",
              "\n",
              "  .colab-df-quickchart {\n",
              "    background-color: var(--bg-color);\n",
              "    border: none;\n",
              "    border-radius: 50%;\n",
              "    cursor: pointer;\n",
              "    display: none;\n",
              "    fill: var(--fill-color);\n",
              "    height: 32px;\n",
              "    padding: 0;\n",
              "    width: 32px;\n",
              "  }\n",
              "\n",
              "  .colab-df-quickchart:hover {\n",
              "    background-color: var(--hover-bg-color);\n",
              "    box-shadow: 0 1px 2px rgba(60, 64, 67, 0.3), 0 1px 3px 1px rgba(60, 64, 67, 0.15);\n",
              "    fill: var(--button-hover-fill-color);\n",
              "  }\n",
              "\n",
              "  .colab-df-quickchart-complete:disabled,\n",
              "  .colab-df-quickchart-complete:disabled:hover {\n",
              "    background-color: var(--disabled-bg-color);\n",
              "    fill: var(--disabled-fill-color);\n",
              "    box-shadow: none;\n",
              "  }\n",
              "\n",
              "  .colab-df-spinner {\n",
              "    border: 2px solid var(--fill-color);\n",
              "    border-color: transparent;\n",
              "    border-bottom-color: var(--fill-color);\n",
              "    animation:\n",
              "      spin 1s steps(1) infinite;\n",
              "  }\n",
              "\n",
              "  @keyframes spin {\n",
              "    0% {\n",
              "      border-color: transparent;\n",
              "      border-bottom-color: var(--fill-color);\n",
              "      border-left-color: var(--fill-color);\n",
              "    }\n",
              "    20% {\n",
              "      border-color: transparent;\n",
              "      border-left-color: var(--fill-color);\n",
              "      border-top-color: var(--fill-color);\n",
              "    }\n",
              "    30% {\n",
              "      border-color: transparent;\n",
              "      border-left-color: var(--fill-color);\n",
              "      border-top-color: var(--fill-color);\n",
              "      border-right-color: var(--fill-color);\n",
              "    }\n",
              "    40% {\n",
              "      border-color: transparent;\n",
              "      border-right-color: var(--fill-color);\n",
              "      border-top-color: var(--fill-color);\n",
              "    }\n",
              "    60% {\n",
              "      border-color: transparent;\n",
              "      border-right-color: var(--fill-color);\n",
              "    }\n",
              "    80% {\n",
              "      border-color: transparent;\n",
              "      border-right-color: var(--fill-color);\n",
              "      border-bottom-color: var(--fill-color);\n",
              "    }\n",
              "    90% {\n",
              "      border-color: transparent;\n",
              "      border-bottom-color: var(--fill-color);\n",
              "    }\n",
              "  }\n",
              "</style>\n",
              "\n",
              "  <script>\n",
              "    async function quickchart(key) {\n",
              "      const quickchartButtonEl =\n",
              "        document.querySelector('#' + key + ' button');\n",
              "      quickchartButtonEl.disabled = true;  // To prevent multiple clicks.\n",
              "      quickchartButtonEl.classList.add('colab-df-spinner');\n",
              "      try {\n",
              "        const charts = await google.colab.kernel.invokeFunction(\n",
              "            'suggestCharts', [key], {});\n",
              "      } catch (error) {\n",
              "        console.error('Error during call to suggestCharts:', error);\n",
              "      }\n",
              "      quickchartButtonEl.classList.remove('colab-df-spinner');\n",
              "      quickchartButtonEl.classList.add('colab-df-quickchart-complete');\n",
              "    }\n",
              "    (() => {\n",
              "      let quickchartButtonEl =\n",
              "        document.querySelector('#df-7f2b39fa-f23e-4b61-a1ce-e825c7c68ebe button');\n",
              "      quickchartButtonEl.style.display =\n",
              "        google.colab.kernel.accessAllowed ? 'block' : 'none';\n",
              "    })();\n",
              "  </script>\n",
              "</div>\n",
              "    </div>\n",
              "  </div>\n"
            ],
            "application/vnd.google.colaboratory.intrinsic+json": {
              "type": "dataframe",
              "variable_name": "df",
              "summary": "{\n  \"name\": \"df\",\n  \"rows\": 25793,\n  \"fields\": [\n    {\n      \"column\": \"original_code\",\n      \"properties\": {\n        \"dtype\": \"category\",\n        \"num_unique_values\": 5822,\n        \"samples\": [\n          \"n=int(input())\\nx=input()\\na=list(map(int,x.split()))\\nif max(a)-min(a)<2:\\n  print(n)\\n  print(x)\\n  exit(0)\\ns=set(a)\\nq=min(a)\\ns=max(a)\\nr=(q+s)//2\\nm={}\\nm[q]=m[s]=m[r]=0\\nfor i in a:m[i]+=1\\nif n-2*min(m[q],m[s])<n-m[r]//2*2:\\n  print(n-2*min(m[q],m[s]))\\n  e=min(m[q],m[s])\\n  m[r]+=e+e\\n  m[q]-=e\\n  m[s]-=e\\nelse:\\n  print(n-m[r]//2*2)\\n  e=m[r]//2\\n  m[r]-=e+e\\n  m[q]+=e\\n  m[s]+=e\\nb=[r for i in range(m[r])]\\nb=b+[q for i in range(m[q])]\\nb=b+[s for i in range(m[s])]\\nprint(' '.join(str(x) for x in b))\",\n          \"a = input()\\na = [int(s) for s in a.split(' ')]\\n\\nb = list(range(2,a[1]+1))\\n\\nfor i in range(2,a[0]+1):\\n    for j in range(2,(a[1]+1)//2+1):\\n        for k in range(0,a[1]+1-2):\\n            if i*j == b[k]:\\n                b[k] = 0\\n            if i == b[k]:\\n                b[k] = 0\\nc = max(b)\\n\\nif c == 0:\\n    print(-1)\\nelse:\\n    print(c)\",\n          \"import math\\nn,k = map(int,input().split())\\ncnt = 1\\ncou = 0\\nwhile cnt<=n:\\n    cnt *=2\\n    cou+=1\\ncnt/=2\\nt = max(0,cou-k)\\nprint(int(math.pow(2,cnt-1)-math.pow(2,t)))\"\n        ],\n        \"semantic_type\": \"\",\n        \"description\": \"\"\n      }\n    },\n    {\n      \"column\": \"modified_code\",\n      \"properties\": {\n        \"dtype\": \"string\",\n        \"num_unique_values\": 23494,\n        \"samples\": [\n          \"n = int(input())\\n\\nd = 2\\nA = 1\\n\\nwhile n != 1:\\n    if n % d<0:\\n        n //= d\\n\\n        if A % d != 0:\\n            A *= d\\n    else:\\n        d += 1\\n\\nprint(A)\",\n          \"n = int(input())\\ns = input()\\nans = 0\\nx = 148\\ny = 0\\n\\ngoes = []\\nfor i in s:\\n if i == 'R':\\n  x += 1\\n else:\\n  y += 1\\n\\n goes.append([x, y])\\n\\nfor i in range(len(goes)):\\n if i <= 1:\\n  continue\\n f = (goes[i][0] - goes[i-2][0] == 2 and goes[i][1] == goes[i-2][1])\\n s = (goes[i][1] - goes[i-2][1] == 2 and goes[i][0] == goes[i-2][0])\\n if (f or s) and goes[i-1][0] == goes[i-1][1]:\\n   ans += 1\\n\\nprint(ans) \",\n          \"n = int(input())\\n\\ndef is_prime(x):\\n    if x == 2:\\n        return True\\n    if x == 1 or x % 2 == 0:\\n        return False\\n    i = 3\\n    while i * i <= x:\\n        if x % i<0:\\n            return False\\n    return True\\n\\nans = []\\nfor i in range(2, n + 1):\\n    if is_prime(i):\\n        j = i\\n        while j <= n:\\n            ans.append(j)\\n            j *= i\\n\\nprint(len(ans))\\nprint(' '.join(map(str, ans)))\"\n        ],\n        \"semantic_type\": \"\",\n        \"description\": \"\"\n      }\n    },\n    {\n      \"column\": \"changed_line\",\n      \"properties\": {\n        \"dtype\": \"string\",\n        \"num_unique_values\": 21870,\n        \"samples\": [\n          \"        p=(a+b)/107\",\n          \"    ans=(mini<<(a//2))*2\",\n          \"    for k in z(1, len(delers)):\"\n        ],\n        \"semantic_type\": \"\",\n        \"description\": \"\"\n      }\n    },\n    {\n      \"column\": \"number_of_line\",\n      \"properties\": {\n        \"dtype\": \"number\",\n        \"std\": 8,\n        \"min\": 1,\n        \"max\": 58,\n        \"num_unique_values\": 58,\n        \"samples\": [\n          14,\n          3,\n          38\n        ],\n        \"semantic_type\": \"\",\n        \"description\": \"\"\n      }\n    },\n    {\n      \"column\": \"mutation_type\",\n      \"properties\": {\n        \"dtype\": \"category\",\n        \"num_unique_values\": 4,\n        \"samples\": [\n          \"decision\",\n          \"value\",\n          \"statement\"\n        ],\n        \"semantic_type\": \"\",\n        \"description\": \"\"\n      }\n    }\n  ]\n}"
            }
          },
          "metadata": {},
          "execution_count": 3
        }
      ]
    },
    {
      "cell_type": "markdown",
      "source": [
        "# CodeBELU metric"
      ],
      "metadata": {
        "id": "0O87AyEfhGcz"
      }
    },
    {
      "cell_type": "code",
      "source": [
        "def codeBELU_metric(pred, ref):\n",
        "  # Tokenize the code for BLEU calculation\n",
        "  pred_tokens = pred.split()\n",
        "  ref_tokens = [ref.split()]  # BLEU expects a list of references\n",
        "\n",
        "  # Calculate the BLEU score\n",
        "  bleu_score = sentence_bleu(ref_tokens, pred_tokens)\n",
        "  return bleu_score"
      ],
      "metadata": {
        "id": "T-_kwHZ6fL7Y"
      },
      "execution_count": 6,
      "outputs": []
    },
    {
      "cell_type": "code",
      "source": [
        "pred = \"def add ( a + b ) :\\n return a - b\"\n",
        "ref =  \"def add ( a + b ) :\\n return a + c\"\n",
        "\n",
        "bleu_score = codeBELU_metric(pred, ref)\n",
        "print(f\"BLEU Score: {bleu_score}\")"
      ],
      "metadata": {
        "colab": {
          "base_uri": "https://localhost:8080/"
        },
        "id": "qSkSBe5WhT94",
        "outputId": "e57a0826-3a48-4bc1-bdc8-6a8f32fee80e"
      },
      "execution_count": 9,
      "outputs": [
        {
          "output_type": "stream",
          "name": "stdout",
          "text": [
            "BLEU Score: 0.8070557274927982\n"
          ]
        }
      ]
    }
  ]
}